{
  "nbformat": 4,
  "nbformat_minor": 0,
  "metadata": {
    "colab": {
      "name": "ccontrerasc21BlackjackGrClass1StGroup4.ipynb",
      "provenance": [],
      "collapsed_sections": []
    },
    "kernelspec": {
      "name": "python3",
      "display_name": "Python 3"
    }
  },
  "cells": [
    {
      "cell_type": "markdown",
      "metadata": {
        "id": "snJljcNYRhje"
      },
      "source": [
        "# **1.**"
      ]
    },
    {
      "cell_type": "markdown",
      "metadata": {
        "id": "KWHI5LtNtsKg"
      },
      "source": [
        "# ***Baraja Española*** \n"
      ]
    },
    {
      "cell_type": "code",
      "metadata": {
        "id": "2Y2gNyPB0Rp_",
        "colab": {
          "base_uri": "https://localhost:8080/",
          "height": 282
        },
        "outputId": "c92d8857-10aa-4767-dbe8-3608a0d5bb1b"
      },
      "source": [
        "import random as r\n",
        "import matplotlib.pyplot as plt\n",
        "\n",
        "n = 10000000\n",
        "count =0\n",
        "avcnc=0\n",
        "mnc21=[]\n",
        "for i in range (n):\n",
        "    deck= [1,2,3,4,5,6,7,8,9,10,11,12,1,2,3,4,5,6,7,8,9,10,11,12,1,2,3,4,5,6,7,8,9,10,11,12,1,2,3,4,5,6,7,8,9,10,11,12]\n",
        "    my_cards=[]\n",
        "    nc=0\n",
        "    while(sum(my_cards)<21):\n",
        "        card = r.choice(deck)\n",
        "        my_cards.append(card)\n",
        "        deck.remove(card)\n",
        "        nc+= 1\n",
        "    if (sum(my_cards)==21):\n",
        "        count = count +1\n",
        "        avcnc = avcnc + nc\n",
        "        mnc21.append(nc)\n",
        "print(\"probabibilidad de tener 21 es de \" , count/n,\",cartas promedio por mano\", avcnc/count, \",maximo número de cartas para tener 21 =\",max(mnc21))\n",
        "plt.hist(mnc21,density=True,bins=max(mnc21)-min(mnc21))\n",
        "plt.show()"
      ],
      "execution_count": 1,
      "outputs": [
        {
          "output_type": "stream",
          "text": [
            "probabibilidad de tener 21 es de  0.1578777 ,cartas promedio por mano 3.415961215548491 ,maximo número de cartas para tener 21 = 9\n"
          ],
          "name": "stdout"
        },
        {
          "output_type": "display_data",
          "data": {
            "image/png": "[encoded data removed]",
            "text/plain": [
              "<Figure size 432x288 with 1 Axes>"
            ]
          },
          "metadata": {
            "tags": [],
            "needs_background": "light"
          }
        }
      ]
    },
    {
      "cell_type": "markdown",
      "metadata": {
        "id": "yJWhA6LZuG0t"
      },
      "source": [
        "# ***Baraja de Póker*** \n"
      ]
    },
    {
      "cell_type": "code",
      "metadata": {
        "id": "xAx2VTYphVt2",
        "colab": {
          "base_uri": "https://localhost:8080/",
          "height": 282
        },
        "outputId": "0a36a267-526d-4ef0-8434-a5dda282f642"
      },
      "source": [
        "import random as r\n",
        "import matplotlib.pyplot as plt\n",
        "\n",
        "n = 10000000\n",
        "count =0\n",
        "avcnc=0\n",
        "mnc21=[]\n",
        "for i in range (n):\n",
        "    deck= [1,2,3,4,5,6,7,8,9,10,11,12,13,1,2,3,4,5,6,7,8,9,10,11,12,13,1,2,3,4,5,6,7,8,9,10,11,12,13,1,2,3,4,5,6,7,8,9,10,11,12,13]\n",
        "    my_cards=[]\n",
        "    nc=0\n",
        "    while(sum(my_cards)<21):\n",
        "        card = r.choice(deck)\n",
        "        my_cards.append(card)\n",
        "        deck.remove(card)\n",
        "        nc+= 1\n",
        "    if (sum(my_cards)==21):\n",
        "        count = count +1\n",
        "        avcnc = avcnc + nc\n",
        "        mnc21.append(nc)\n",
        "print(\"probabibilidad de tener 21 es de \" , count/n,\",cartas promedio por mano\", avcnc/count, \",maximo número de cartas para tener 21 =\",max(mnc21))\n",
        "plt.hist(mnc21,density=True,bins=max(mnc21)-min(mnc21))\n",
        "plt.show()"
      ],
      "execution_count": 2,
      "outputs": [
        {
          "output_type": "stream",
          "text": [
            "probabibilidad de tener 21 es de  0.1448159 ,cartas promedio por mano 3.216153751072914 ,maximo número de cartas para tener 21 = 9\n"
          ],
          "name": "stdout"
        },
        {
          "output_type": "display_data",
          "data": {
            "image/png": "[encoded data removed]",
            "text/plain": [
              "<Figure size 432x288 with 1 Axes>"
            ]
          },
          "metadata": {
            "tags": [],
            "needs_background": "light"
          }
        }
      ]
    },
    {
      "cell_type": "markdown",
      "metadata": {
        "id": "w6vALklBRr1D"
      },
      "source": [
        "# **2.**"
      ]
    },
    {
      "cell_type": "markdown",
      "metadata": {
        "id": "f3N4Ct_1ucbC"
      },
      "source": [
        "# ***Baraja Española (Triple 10)*** \n"
      ]
    },
    {
      "cell_type": "code",
      "metadata": {
        "id": "NtLCk3rGhtyT",
        "colab": {
          "base_uri": "https://localhost:8080/",
          "height": 282
        },
        "outputId": "86eebec1-ad28-46b2-cf10-2051b380ffe6"
      },
      "source": [
        "import random as r\n",
        "import matplotlib.pyplot as plt\n",
        "\n",
        "n = 10000000\n",
        "count =0\n",
        "avcnc=0\n",
        "mnc21=[]\n",
        "for i in range (n):\n",
        "    deck= [1,2,3,4,5,6,7,8,9,10,10,10,1,2,3,4,5,6,7,8,9,10,10,10,1,2,3,4,5,6,7,8,9,10,10,10,1,2,3,4,5,6,7,8,9,10,10,10]\n",
        "    my_cards=[]\n",
        "    nc=0\n",
        "    while(sum(my_cards)<21):\n",
        "        card = r.choice(deck)\n",
        "        my_cards.append(card)\n",
        "        deck.remove(card)\n",
        "        nc+= 1\n",
        "    if (sum(my_cards)==21):\n",
        "        count = count +1\n",
        "        avcnc = avcnc + nc\n",
        "        mnc21.append(nc)\n",
        "print(\"probabibilidad de tener 21 es de \" , count/n,\",cartas promedio por mano\", avcnc/count, \",maximo número de cartas para tener 21 =\",max(mnc21))\n",
        "plt.hist(mnc21,density=True,bins=max(mnc21)-min(mnc21))\n",
        "plt.show()"
      ],
      "execution_count": 3,
      "outputs": [
        {
          "output_type": "stream",
          "text": [
            "probabibilidad de tener 21 es de  0.1496762 ,cartas promedio por mano 3.699016944577695 ,maximo número de cartas para tener 21 = 9\n"
          ],
          "name": "stdout"
        },
        {
          "output_type": "display_data",
          "data": {
            "image/png": "[encoded data removed]",
            "text/plain": [
              "<Figure size 432x288 with 1 Axes>"
            ]
          },
          "metadata": {
            "tags": [],
            "needs_background": "light"
          }
        }
      ]
    },
    {
      "cell_type": "markdown",
      "metadata": {
        "id": "C9NVkzLfuuIL"
      },
      "source": [
        "# ***Baraja de Póker (Cuádruple 10)*** \n"
      ]
    },
    {
      "cell_type": "code",
      "metadata": {
        "id": "ueciuL96iehC",
        "colab": {
          "base_uri": "https://localhost:8080/",
          "height": 286
        },
        "outputId": "7e3dd00d-53aa-41e5-c137-8b6817c68c6d"
      },
      "source": [
        "import random as r\n",
        "import matplotlib.pyplot as plt\n",
        "\n",
        "n = 10000000\n",
        "count =0\n",
        "avcnc=0\n",
        "mnc21=[]\n",
        "for i in range (n):\n",
        "    deck= [1,2,3,4,5,6,7,8,9,10,10,10,10,1,2,3,4,5,6,7,8,9,10,10,10,10,1,2,3,4,5,6,7,8,9,10,10,10,10,1,2,3,4,5,6,7,8,9,10,10,10,10]\n",
        "    my_cards=[]\n",
        "    nc=0\n",
        "    while(sum(my_cards)<21):\n",
        "        card = r.choice(deck)\n",
        "        my_cards.append(card)\n",
        "        deck.remove(card)\n",
        "        nc+= 1\n",
        "    if (sum(my_cards)==21):\n",
        "        count = count +1\n",
        "        avcnc = avcnc + nc\n",
        "        mnc21.append(nc)\n",
        "print(\"probabibilidad de tener 21 es de \" , count/n,\",cartas promedio por mano\", avcnc/count, \",maximo número de cartas para tener 21 =\",max(mnc21))\n",
        "plt.hist(mnc21,density=True,bins=max(mnc21)-min(mnc21))\n",
        "plt.show()"
      ],
      "execution_count": 4,
      "outputs": [
        {
          "output_type": "stream",
          "text": [
            "probabibilidad de tener 21 es de  0.1402097 ,cartas promedio por mano 3.577853030139855 ,maximo número de cartas para tener 21 = 9\n"
          ],
          "name": "stdout"
        },
        {
          "output_type": "display_data",
          "data": {
            "image/png": "[encoded data removed]",
            "text/plain": [
              "<Figure size 432x288 with 1 Axes>"
            ]
          },
          "metadata": {
            "tags": [],
            "needs_background": "light"
          }
        }
      ]
    },
    {
      "cell_type": "markdown",
      "metadata": {
        "id": "w1K_jmW7RvI2"
      },
      "source": [
        "# **3.**"
      ]
    },
    {
      "cell_type": "markdown",
      "metadata": {
        "id": "w9ehu5J0ykOQ"
      },
      "source": [
        "# ***Baraja Española (con 19 acumulado)***"
      ]
    },
    {
      "cell_type": "code",
      "metadata": {
        "id": "HYHvDXL73PwB",
        "colab": {
          "base_uri": "https://localhost:8080/",
          "height": 282
        },
        "outputId": "4b224886-b917-4944-83f7-0387bc3f0ab1"
      },
      "source": [
        "import random as r\n",
        "import matplotlib.pyplot as plt\n",
        "\n",
        "n = 10000000\n",
        "count =0\n",
        "avcnc=0\n",
        "mnc21=[]\n",
        "for i in range (n):\n",
        "    deck= [1,2,3,4,6,8,9,10,11,12,1,2,3,4,5,6,8,9,10,11,12,1,2,3,4,5,6,7,8,9,10,11,12,1,2,3,4,5,6,7,8,9,10,11,12]\n",
        "    my_cards=[7,7,5]\n",
        "    nc=0\n",
        "    while(len(deck)>(24)):\n",
        "        deck.remove(r.choice(deck))\n",
        "    while(sum(my_cards)<21):\n",
        "        card = r.choice(deck)\n",
        "        my_cards.append(card)\n",
        "        deck.remove(card)\n",
        "        nc+= 1\n",
        "    if (sum(my_cards)==21):\n",
        "        count = count +1\n",
        "        avcnc = avcnc + nc\n",
        "        mnc21.append(nc)\n",
        "print(\"probabibilidad de tener 21 es de \" , count/n,\",cartas promedio por mano\", avcnc/count, \",maximo número de cartas para tener 21 =\",max(mnc21))\n",
        "plt.hist(mnc21,density=True,bins=max(mnc21))\n",
        "plt.show()"
      ],
      "execution_count": 6,
      "outputs": [
        {
          "output_type": "stream",
          "text": [
            "probabibilidad de tener 21 es de  0.094853 ,cartas promedio por mano 1.0640780997965273 ,maximo número de cartas para tener 21 = 2\n"
          ],
          "name": "stdout"
        },
        {
          "output_type": "display_data",
          "data": {
            "image/png": "[encoded data removed]",
            "text/plain": [
              "<Figure size 432x288 with 1 Axes>"
            ]
          },
          "metadata": {
            "tags": [],
            "needs_background": "light"
          }
        }
      ]
    },
    {
      "cell_type": "markdown",
      "metadata": {
        "id": "QdLxsZknyqiL"
      },
      "source": [
        "# ***Baraja de Póker (con 19 acumulado)***"
      ]
    },
    {
      "cell_type": "code",
      "metadata": {
        "id": "HsPnI1uf3QUM",
        "colab": {
          "base_uri": "https://localhost:8080/",
          "height": 282
        },
        "outputId": "0476a156-e7e1-40ba-bc8f-e33e9108a885"
      },
      "source": [
        "import random as r\n",
        "import matplotlib.pyplot as plt\n",
        "\n",
        "n = 10000000\n",
        "count =0\n",
        "avcnc=0\n",
        "mnc21=[]\n",
        "for i in range (n):\n",
        "    deck= [1,2,3,4,6,8,9,10,11,12,13,1,2,3,4,5,6,8,9,10,11,12,13,1,2,3,4,5,6,7,8,9,10,11,12,13,1,2,3,4,5,6,7,8,9,10,11,12,13]\n",
        "    my_cards=[7,7,5]\n",
        "    nc=0\n",
        "    while(len(deck)>(26)):\n",
        "        deck.remove(r.choice(deck))\n",
        "    while(sum(my_cards)<21):\n",
        "        card = r.choice(deck)\n",
        "        my_cards.append(card)\n",
        "        deck.remove(card)\n",
        "        nc+= 1\n",
        "    if (sum(my_cards)==21):\n",
        "        count = count +1\n",
        "        avcnc = avcnc + nc\n",
        "        mnc21.append(nc)\n",
        "print(\"probabibilidad de tener 21 es de \" , count/n,\",cartas promedio por mano\", avcnc/count, \",maximo número de cartas para tener 21 =\",max(mnc21))\n",
        "plt.hist(mnc21,density=True,bins=max(mnc21))\n",
        "plt.show()"
      ],
      "execution_count": 7,
      "outputs": [
        {
          "output_type": "stream",
          "text": [
            "probabibilidad de tener 21 es de  0.0867764 ,cartas promedio por mano 1.0586945298491295 ,maximo número de cartas para tener 21 = 2\n"
          ],
          "name": "stdout"
        },
        {
          "output_type": "display_data",
          "data": {
            "image/png": "[encoded data removed]",
            "text/plain": [
              "<Figure size 432x288 with 1 Axes>"
            ]
          },
          "metadata": {
            "tags": [],
            "needs_background": "light"
          }
        }
      ]
    },
    {
      "cell_type": "markdown",
      "metadata": {
        "id": "EaSQkvajRzAw"
      },
      "source": [
        "# **4.**"
      ]
    },
    {
      "cell_type": "markdown",
      "metadata": {
        "id": "6o4RcjpJ69Q-"
      },
      "source": [
        "# ***Baraja Española Hot Deck (con 19 acumulado)(8 restantes)***"
      ]
    },
    {
      "cell_type": "code",
      "metadata": {
        "id": "9SQpwDBD-KWg",
        "colab": {
          "base_uri": "https://localhost:8080/",
          "height": 282
        },
        "outputId": "71adafb9-4379-4387-aaf9-db55d66dd0d5"
      },
      "source": [
        "import random as r\n",
        "import matplotlib.pyplot as plt\n",
        "\n",
        "n = 10000000\n",
        "count =0\n",
        "avcnc=0\n",
        "mnc21=[]\n",
        "for i in range (n):\n",
        "    deck= [1,1,1,1,2,2,2,2] \n",
        "    my_cards=[7,7,5]\n",
        "    nc=3\n",
        "    while (sum(my_cards)<21):\n",
        "        card = r.choice(deck)\n",
        "        my_cards.append(card)\n",
        "        deck.remove(card)\n",
        "        nc+= 1\n",
        "    if (sum(my_cards)==21):\n",
        "        count = count +1\n",
        "        avcnc = avcnc + nc\n",
        "        mnc21.append(nc)\n",
        "print(\"probabibilidad de tener 21 es de \" , count/n,\",cartas promedio por mano\", avcnc/count, \",maximo número de cartas para tener 21 =\",max(mnc21))\n",
        "plt.hist(mnc21,density=True,bins=max(mnc21))\n",
        "plt.show()"
      ],
      "execution_count": 8,
      "outputs": [
        {
          "output_type": "stream",
          "text": [
            "probabibilidad de tener 21 es de  0.7141317 ,cartas promedio por mano 4.300109209547763 ,maximo número de cartas para tener 21 = 5\n"
          ],
          "name": "stdout"
        },
        {
          "output_type": "display_data",
          "data": {
            "image/png": "[encoded data removed]",
            "text/plain": [
              "<Figure size 432x288 with 1 Axes>"
            ]
          },
          "metadata": {
            "tags": [],
            "needs_background": "light"
          }
        }
      ]
    },
    {
      "cell_type": "markdown",
      "metadata": {
        "id": "nH0cezP9C0bL"
      },
      "source": [
        "# ***Baraja Española Cold Deck (con 19 acumulado)(8 restantes)***"
      ]
    },
    {
      "cell_type": "code",
      "metadata": {
        "id": "NaqEQCWtC3gY",
        "colab": {
          "base_uri": "https://localhost:8080/",
          "height": 282
        },
        "outputId": "6ff7da81-25f2-4a3e-c5a5-50fc33d3a7aa"
      },
      "source": [
        "import random as r\n",
        "import matplotlib.pyplot as plt\n",
        "\n",
        "n = 10000000\n",
        "countint=0\n",
        "count =0\n",
        "avcnc=0\n",
        "mnc21=[]\n",
        "for i in range (n):\n",
        "    deck= [10,10,10,10,10,10,10,10] # 10 representa cualquier carta que no es 1 o 2\n",
        "    my_cards=[7,7,5]\n",
        "    nc=3\n",
        "    while (sum(my_cards)<21):\n",
        "        card = r.choice(deck)\n",
        "        my_cards.append(card)\n",
        "        deck.remove(card)\n",
        "        nc+= 1\n",
        "    if (sum(my_cards)==21):\n",
        "        count = count +1\n",
        "        avcnc = avcnc + nc\n",
        "        mnc21.append(nc)\n",
        "print(\"probabibilidad de tener 21 es de \" , count/n,\",cartas promedio por mano\", count, \",maximo número de cartas para tener 21 =\",mnc21)\n",
        "plt.hist(0,density=True,bins=mnc21)\n",
        "plt.show()"
      ],
      "execution_count": 13,
      "outputs": [
        {
          "output_type": "stream",
          "text": [
            "probabibilidad de tener 21 es de  0.0 ,cartas promedio por mano 0 ,maximo número de cartas para tener 21 = []\n"
          ],
          "name": "stdout"
        },
        {
          "output_type": "display_data",
          "data": {
            "image/png": "[encoded data removed]",
            "text/plain": [
              "<Figure size 432x288 with 1 Axes>"
            ]
          },
          "metadata": {
            "tags": [],
            "needs_background": "light"
          }
        }
      ]
    },
    {
      "cell_type": "markdown",
      "metadata": {
        "id": "-gZ4ah476_Wh"
      },
      "source": [
        "# ***Baraja de Póker Hot Deck (con 19 acumulado)(8 restantes)***"
      ]
    },
    {
      "cell_type": "code",
      "metadata": {
        "id": "FsDLvQPw-QGP",
        "colab": {
          "base_uri": "https://localhost:8080/",
          "height": 282
        },
        "outputId": "baf75c50-ba71-4d0f-9677-b38959ccb09d"
      },
      "source": [
        "import random as r\n",
        "import matplotlib.pyplot as plt\n",
        "\n",
        "n = 10000000\n",
        "count =0\n",
        "avcnc=0\n",
        "mnc21=[]\n",
        "for i in range (n):\n",
        "    deck= [1,1,1,1,2,2,2,2]\n",
        "    my_cards=[7,7,5]\n",
        "    nc=3\n",
        "    while (sum(my_cards)<21):\n",
        "        card = r.choice(deck)\n",
        "        my_cards.append(card)\n",
        "        deck.remove(card)\n",
        "        nc+= 1\n",
        "    if (sum(my_cards)==21):\n",
        "        count = count +1\n",
        "        avcnc = avcnc + nc\n",
        "        mnc21.append(nc)\n",
        "print(\"probabibilidad de tener 21 es de \" , count/n,\",cartas promedio por mano\", avcnc/count, \",maximo número de cartas para tener 21 =\",max(mnc21))\n",
        "plt.hist(mnc21,density=True,bins=max(mnc21))\n",
        "plt.show()"
      ],
      "execution_count": 14,
      "outputs": [
        {
          "output_type": "stream",
          "text": [
            "probabibilidad de tener 21 es de  0.7142082 ,cartas promedio por mano 4.299973313103938 ,maximo número de cartas para tener 21 = 5\n"
          ],
          "name": "stdout"
        },
        {
          "output_type": "display_data",
          "data": {
            "image/png": "[encoded data removed]",
            "text/plain": [
              "<Figure size 432x288 with 1 Axes>"
            ]
          },
          "metadata": {
            "tags": [],
            "needs_background": "light"
          }
        }
      ]
    },
    {
      "cell_type": "markdown",
      "metadata": {
        "id": "kT2B6RFgC58J"
      },
      "source": [
        "# ***Baraja de Póker Cold Deck (con 19 acumulado)(8 restantes)***"
      ]
    },
    {
      "cell_type": "code",
      "metadata": {
        "id": "DBBTIUR2C8dS",
        "colab": {
          "base_uri": "https://localhost:8080/",
          "height": 282
        },
        "outputId": "cd513fcf-08c0-4e80-e21e-d227c8032842"
      },
      "source": [
        "import random as r\n",
        "import matplotlib.pyplot as plt\n",
        "\n",
        "n = 10000000\n",
        "countint=0\n",
        "count =0\n",
        "avcnc=0\n",
        "mnc21=[]\n",
        "for i in range (n):\n",
        "    deck= [10,10,10,10,10,10,10,10] # 10 representa cualquier carta que no es 1 o 2\n",
        "    my_cards=[7,7,5]\n",
        "    nc=3\n",
        "    while (sum(my_cards)<21):\n",
        "        card = r.choice(deck)\n",
        "        my_cards.append(card)\n",
        "        deck.remove(card)\n",
        "        nc+= 1\n",
        "    if (sum(my_cards)==21):\n",
        "        count = count +1\n",
        "        avcnc = avcnc + nc\n",
        "        mnc21.append(nc)\n",
        "print(\"probabibilidad de tener 21 es de \" , count/n,\",cartas promedio por mano\", count, \",maximo número de cartas para tener 21 =\",mnc21)\n",
        "plt.hist(0,density=True,bins=mnc21)\n",
        "plt.show()"
      ],
      "execution_count": 15,
      "outputs": [
        {
          "output_type": "stream",
          "text": [
            "probabibilidad de tener 21 es de  0.0 ,cartas promedio por mano 0 ,maximo número de cartas para tener 21 = []\n"
          ],
          "name": "stdout"
        },
        {
          "output_type": "display_data",
          "data": {
            "image/png": "[encoded data removed]",
            "text/plain": [
              "<Figure size 432x288 with 1 Axes>"
            ]
          },
          "metadata": {
            "tags": [],
            "needs_background": "light"
          }
        }
      ]
    },
    {
      "cell_type": "markdown",
      "metadata": {
        "id": "AZEpOyBsR5wr"
      },
      "source": [
        "# **5.**"
      ]
    },
    {
      "cell_type": "markdown",
      "metadata": {
        "id": "JrU0e4uzUcew"
      },
      "source": [
        "# ***Ben con Baraja Española***"
      ]
    },
    {
      "cell_type": "code",
      "metadata": {
        "id": "C6sYcG2MUdsv",
        "colab": {
          "base_uri": "https://localhost:8080/"
        },
        "outputId": "78e077e9-aa8c-4f87-bd97-aa846feef6c0"
      },
      "source": [
        "import random as r\n",
        "import matplotlib.pyplot as plt\n",
        "\n",
        "averagewinnings=0\n",
        "for j in range(10000):\n",
        "  wekeend_days=3\n",
        "  hours_a_day=10\n",
        "  games_per_hour=20\n",
        "  total_tries=wekeend_days*hours_a_day*games_per_hour\n",
        "  n = total_tries\n",
        "  counth=0\n",
        "  counthtries=0\n",
        "  countc=0\n",
        "  countctries=0\n",
        "  avcnch=0\n",
        "  avcncc=0\n",
        "  mnc21h=[]\n",
        "  mnc21c=[]\n",
        "  for i in range (n):\n",
        "    aleatorio = r.random()\n",
        "    if (aleatorio < 0.1):\n",
        "      deck= [1,1,1,1,2,2,2,2] # \"Hot Deck\"\n",
        "      my_cards=[7,7,5]\n",
        "      nc=3\n",
        "      counthtries +=1\n",
        "      while (sum(my_cards)<21):\n",
        "        card = r.choice(deck)\n",
        "        my_cards.append(card)\n",
        "        deck.remove(card)\n",
        "        nc+= 1\n",
        "      if (sum(my_cards)==21):\n",
        "        counth +=1\n",
        "        avcnch = avcnch + nc\n",
        "        mnc21h.append(nc)\n",
        "    else:\n",
        "      deck= [1,2,3,4,5,6,7,8,9,10,11,12,1,2,3,4,5,6,7,8,9,10,11,12,1,2,3,4,5,6,7,8,9,10,11,12,1,2,3,4,5,6,7,8,9,10,11,12] # \"Cold Deck\"\n",
        "      my_cards=[]\n",
        "      nc=0\n",
        "      countctries +=1\n",
        "      while (sum(my_cards)<21):\n",
        "        card = r.choice(deck)\n",
        "        my_cards.append(card)\n",
        "        deck.remove(card)\n",
        "        nc+= 1\n",
        "      if (sum(my_cards)==21):\n",
        "        countc +=1\n",
        "        avcncc = avcncc + nc\n",
        "        mnc21c.append(nc)\n",
        "    \n",
        "print(\"probabibilidad de tener 21 para Hot Deck es de \" , counth/counthtries,\",cartas promedio por mano\", avcnch/counth, \",maximo número de cartas para tener 21 =\",max(mnc21h),\",Ben termina con $\" , 1000*counth-1000*(counthtries-counth),\",número de intentos\",counthtries)\n",
        "print(\"probabibilidad de tener 21 para Cold Deck es de \" , countc/countctries,\",cartas promedio por mano\", avcncc/countc, \",maximo número de cartas para tener 21 =\",max(mnc21c),\",Ben termina con $\" , 10*countc-10*(countctries-countc),\",número de intentos\",countctries)\n",
        "averagewinnings=((1000*counth-1000*(counthtries-counth))+(10*countc-10*(countctries-countc)))\n",
        "\n",
        "print(\"Ben gana\",averagewinnings)"
      ],
      "execution_count": 29,
      "outputs": [
        {
          "output_type": "stream",
          "text": [
            "probabibilidad de tener 21 para Hot Deck es de  0.6716417910447762 ,cartas promedio por mano 4.377777777777778 ,maximo número de cartas para tener 21 = 5 ,Ben termina con $ 23000 ,número de intentos 67\n",
            "probabibilidad de tener 21 para Cold Deck es de  0.1275797373358349 ,cartas promedio por mano 3.6029411764705883 ,maximo número de cartas para tener 21 = 7 ,Ben termina con $ -3970 ,número de intentos 533\n",
            "Ben gana 19030\n"
          ],
          "name": "stdout"
        }
      ]
    },
    {
      "cell_type": "markdown",
      "metadata": {
        "id": "QBXY7VYlHsME"
      },
      "source": [
        "# ***Ben con Baraja de Póker***"
      ]
    },
    {
      "cell_type": "code",
      "metadata": {
        "id": "WSWl-Gw8HwU5",
        "colab": {
          "base_uri": "https://localhost:8080/"
        },
        "outputId": "4fc1efef-0f47-41df-d4b7-adbb5ad7cbb9"
      },
      "source": [
        "import random as r\n",
        "import matplotlib.pyplot as plt\n",
        "\n",
        "averagewinnings=0\n",
        "for j in range(10000):\n",
        "  wekeend_days=3\n",
        "  hours_a_day=10\n",
        "  games_per_hour=20\n",
        "  total_tries=wekeend_days*hours_a_day*games_per_hour\n",
        "  n = total_tries\n",
        "  counth=0\n",
        "  counthtries=0\n",
        "  countc=0\n",
        "  countctries=0\n",
        "  avcnch=0\n",
        "  avcncc=0\n",
        "  mnc21h=[]\n",
        "  mnc21c=[]\n",
        "  for i in range (n):\n",
        "    aleatorio = r.random()\n",
        "    if (aleatorio < 0.1):\n",
        "      deck= [1,1,1,1,2,2,2,2] # \"Hot Deck\"\n",
        "      my_cards=[7,7,5]\n",
        "      nc=3\n",
        "      counthtries +=1\n",
        "      while (sum(my_cards)<21):\n",
        "        card = r.choice(deck)\n",
        "        my_cards.append(card)\n",
        "        deck.remove(card)\n",
        "        nc+= 1\n",
        "      if (sum(my_cards)==21):\n",
        "        counth +=1\n",
        "        avcnch = avcnch + nc\n",
        "        mnc21h.append(nc)\n",
        "    else:\n",
        "      deck= [1,2,3,4,5,6,7,8,9,10,11,12,13,1,2,3,4,5,6,7,8,9,10,11,12,13,1,2,3,4,5,6,7,8,9,10,11,12,13,1,2,3,4,5,6,7,8,9,10,11,12,13] # \"Cold Deck\"\n",
        "      my_cards=[]\n",
        "      nc=0\n",
        "      countctries +=1\n",
        "      while (sum(my_cards)<21):\n",
        "        card = r.choice(deck)\n",
        "        my_cards.append(card)\n",
        "        deck.remove(card)\n",
        "        nc+= 1\n",
        "      if (sum(my_cards)==21):\n",
        "        countc +=1\n",
        "        avcncc = avcncc + nc\n",
        "        mnc21c.append(nc)\n",
        "    \n",
        "print(\"probabibilidad de tener 21 para Hot Deck es de \" , counth/counthtries,\",cartas promedio por mano\", avcnch/counth, \",maximo número de cartas para tener 21 =\",max(mnc21h),\",Ben termina con $\" , 1000*counth-1000*(counthtries-counth),\",número de intentos\",counthtries)\n",
        "print(\"probabibilidad de tener 21 para Cold Deck es de \" , countc/countctries,\",cartas promedio por mano\", avcncc/countc, \",maximo número de cartas para tener 21 =\",max(mnc21c),\",Ben termina con $\" , 10*countc-10*(countctries-countc),\",número de intentos\",countctries)\n",
        "averagewinnings=((1000*counth-1000*(counthtries-counth))+(10*countc-10*(countctries-countc)))\n",
        "\n",
        "print(\"Ben gana\",averagewinnings)"
      ],
      "execution_count": 30,
      "outputs": [
        {
          "output_type": "stream",
          "text": [
            "probabibilidad de tener 21 para Hot Deck es de  0.6029411764705882 ,cartas promedio por mano 4.341463414634147 ,maximo número de cartas para tener 21 = 5 ,Ben termina con $ 14000 ,número de intentos 68\n",
            "probabibilidad de tener 21 para Cold Deck es de  0.13909774436090225 ,cartas promedio por mano 3.2432432432432434 ,maximo número de cartas para tener 21 = 6 ,Ben termina con $ -3840 ,número de intentos 532\n",
            "Ben gana 10160\n"
          ],
          "name": "stdout"
        }
      ]
    }
  ]
}